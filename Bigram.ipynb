{
 "cells": [
  {
   "cell_type": "markdown",
   "id": "8928ffc4",
   "metadata": {},
   "source": [
    "\n",
    "# Bigram Language Model (PyTorch)\n",
    "\n",
    "This notebook demonstrates a character-level bigram language model implemented in PyTorch. It trains on a corpus of text and generates new character sequences based on learned probabilities.\n"
   ]
  },
  {
   "cell_type": "markdown",
   "id": "acb856f1",
   "metadata": {},
   "source": [
    "\n",
    "## Dataset Preparation\n",
    "\n",
    "We begin by loading the Shakespeare dataset (`miniSpeare.txt`) and preparing the vocabulary. This includes creating mappings from characters to integers and vice versa.\n"
   ]
  },
  {
   "cell_type": "code",
   "execution_count": 1,
   "id": "30e133b3",
   "metadata": {},
   "outputs": [
    {
     "data": {
      "text/plain": [
       "<torch._C.Generator at 0x2114609d250>"
      ]
     },
     "execution_count": 1,
     "metadata": {},
     "output_type": "execute_result"
    }
   ],
   "source": [
    "\n",
    "import torch\n",
    "import torch.nn as nn\n",
    "from torch.nn import functional as F\n",
    "\n",
    "# hyperparameters\n",
    "batch_size = 32 # how many independent sequences will we process in parallel?\n",
    "block_size = 8 # what is the maximum context length for predictions?\n",
    "max_iters = 3000\n",
    "eval_interval = 300\n",
    "learning_rate = 1e-2\n",
    "device = 'cuda' if torch.cuda.is_available() else 'cpu'\n",
    "eval_iters = 200\n",
    "\n",
    "torch.manual_seed(1337)\n"
   ]
  },
  {
   "cell_type": "markdown",
   "id": "bb7fe4f4",
   "metadata": {},
   "source": [
    "\n",
    "## Batch Generation\n",
    "\n",
    "This function creates mini-batches of training data by randomly sampling sequences from the text. These are used for training the model in chunks of fixed `block_size` length.\n"
   ]
  },
  {
   "cell_type": "code",
   "execution_count": 2,
   "id": "dc3bac80",
   "metadata": {},
   "outputs": [],
   "source": [
    "\n",
    "with open('miniSpeare.txt', 'r', encoding='utf-8') as f:\n",
    "    text = f.read()\n",
    "\n",
    "chars = sorted(list(set(text)))\n",
    "vocab_size = len(chars)\n",
    "\n",
    "stoi = { ch:i for i,ch in enumerate(chars) }\n",
    "itos = { i:ch for i,ch in enumerate(chars) }\n",
    "encode = lambda s: [stoi[c] for c in s]\n",
    "decode = lambda l: ''.join([itos[i] for i in l])\n",
    "\n",
    "data = torch.tensor(encode(text), dtype=torch.long)\n",
    "n = int(0.9 * len(data))\n",
    "train_data = data[:n]\n",
    "val_data = data[n:]\n"
   ]
  },
  {
   "cell_type": "markdown",
   "id": "4eb6c9a8",
   "metadata": {},
   "source": [
    "\n",
    "## Loss Estimation Function\n",
    "\n",
    "This utility function evaluates model performance on both training and validation datasets by averaging loss over several mini-batches.\n"
   ]
  },
  {
   "cell_type": "code",
   "execution_count": 3,
   "id": "e02235d3",
   "metadata": {},
   "outputs": [],
   "source": [
    "\n",
    "def get_batch(split):\n",
    "    data = train_data if split == 'train' else val_data\n",
    "    ix = torch.randint(len(data) - block_size, (batch_size,))\n",
    "    x = torch.stack([data[i:i+block_size] for i in ix])\n",
    "    y = torch.stack([data[i+1:i+block_size+1] for i in ix])\n",
    "    return x.to(device), y.to(device)\n"
   ]
  },
  {
   "cell_type": "markdown",
   "id": "6cba1d65",
   "metadata": {},
   "source": [
    "\n",
    "## Model Architecture: Bigram Language Model\n",
    "\n",
    "The model consists of a single embedding layer that acts like a bigram table. Each token directly maps to logits predicting the next character.\n"
   ]
  },
  {
   "cell_type": "code",
   "execution_count": 4,
   "id": "018c54a1",
   "metadata": {},
   "outputs": [],
   "source": [
    "\n",
    "@torch.no_grad()\n",
    "def estimate_loss():\n",
    "    out = {}\n",
    "    model.eval()\n",
    "    for split in ['train', 'val']:\n",
    "        losses = torch.zeros(eval_iters)\n",
    "        for k in range(eval_iters):\n",
    "            X, Y = get_batch(split)\n",
    "            logits, loss = model(X, Y)\n",
    "            losses[k] = loss.item()\n",
    "        out[split] = losses.mean()\n",
    "    model.train()\n",
    "    return out\n"
   ]
  },
  {
   "cell_type": "markdown",
   "id": "e7c2e87f",
   "metadata": {},
   "source": [
    "\n",
    "## Model Training\n",
    "\n",
    "We now train the model using `AdamW` optimizer and periodically evaluate the loss. Loss values for both training and validation sets are printed every `eval_interval` iterations.\n"
   ]
  },
  {
   "cell_type": "code",
   "execution_count": 5,
   "id": "3bc0ecd6",
   "metadata": {},
   "outputs": [],
   "source": [
    "\n",
    "class BigramLanguageModel(nn.Module):\n",
    "\n",
    "    def __init__(self, vocab_size):\n",
    "        super().__init__()\n",
    "        self.token_embedding_table = nn.Embedding(vocab_size, vocab_size)\n",
    "\n",
    "    def forward(self, idx, targets=None):\n",
    "        logits = self.token_embedding_table(idx)\n",
    "        if targets is None:\n",
    "            loss = None\n",
    "        else:\n",
    "            B, T, C = logits.shape\n",
    "            logits = logits.view(B*T, C)\n",
    "            targets = targets.view(B*T)\n",
    "            loss = F.cross_entropy(logits, targets)\n",
    "        return logits, loss\n",
    "\n",
    "    def generate(self, idx, max_new_tokens):\n",
    "        for _ in range(max_new_tokens):\n",
    "            logits, _ = self(idx)\n",
    "            logits = logits[:, -1, :]\n",
    "            probs = F.softmax(logits, dim=-1)\n",
    "            idx_next = torch.multinomial(probs, num_samples=1)\n",
    "            idx = torch.cat((idx, idx_next), dim=1)\n",
    "        return idx\n"
   ]
  },
  {
   "cell_type": "markdown",
   "id": "8d1b6853",
   "metadata": {},
   "source": [
    "\n",
    "## Text Generation\n",
    "\n",
    "Finally, we use the trained model to generate new text, starting from an empty context. The model sequentially samples the next character based on learned probabilities.\n"
   ]
  },
  {
   "cell_type": "code",
   "execution_count": 7,
   "id": "afa7f77e",
   "metadata": {},
   "outputs": [
    {
     "name": "stdout",
     "output_type": "stream",
     "text": [
      "step 0: train loss 4.6506, val loss 4.6615\n",
      "step 300: train loss 2.8190, val loss 2.8228\n",
      "step 600: train loss 2.5420, val loss 2.5593\n",
      "step 900: train loss 2.4982, val loss 2.5179\n",
      "step 1200: train loss 2.4814, val loss 2.5149\n",
      "step 1500: train loss 2.4672, val loss 2.4981\n",
      "step 1800: train loss 2.4646, val loss 2.4879\n",
      "step 2100: train loss 2.4648, val loss 2.4919\n",
      "step 2400: train loss 2.4724, val loss 2.4907\n",
      "step 2700: train loss 2.4629, val loss 2.4862\n",
      "\n",
      "Buer me,\n",
      "RUSllle i&elat toUNuee theas Plichee.\n",
      "LERio me &ZEnks bloutwlue henarthian th fie ber!\n",
      "LABuppulien?\n",
      "Berod ther imy d.\n",
      "HAlip\n",
      "Thow ngathe I t ondy y:\n",
      "Hitis al he IN:\n",
      "I, ces3Kal ue; t tsos in sellen, omoon\n",
      "HANORure, thes ar fos o s bu in, veamerris m e.\n",
      "Myeran'tl'd Yomeeisuprmiuspinougninks n at: m:\n",
      "Tore anorer f harbro spurshat! is bung julesth k atroove se westy thishme tothe IUSS:\n",
      "\n",
      "IO:\n",
      "O:\n",
      "LAnas bsut s me he har?\n",
      "Hodia y'dghar urs\n",
      "Go lillobre nt fay Non s\n",
      "Ans, sy gstwovesan thimecve, oul\n"
     ]
    }
   ],
   "source": [
    "\n",
    "model = BigramLanguageModel(vocab_size)\n",
    "m = model.to(device)\n",
    "\n",
    "optimizer = torch.optim.AdamW(model.parameters(), lr=learning_rate)\n",
    "\n",
    "for iter in range(max_iters):\n",
    "    if iter % eval_interval == 0:\n",
    "        losses = estimate_loss()\n",
    "        print(f\"step {iter}: train loss {losses['train']:.4f}, val loss {losses['val']:.4f}\")\n",
    "\n",
    "    xb, yb = get_batch('train')\n",
    "    logits, loss = model(xb, yb)\n",
    "    optimizer.zero_grad(set_to_none=True)\n",
    "    loss.backward()\n",
    "    optimizer.step()\n",
    "\n",
    "# generate from the model\n",
    "context = torch.zeros((1, 1), dtype=torch.long, device=device)\n",
    "print(decode(m.generate(context, max_new_tokens=500)[0].tolist()))"
   ]
  }
 ],
 "metadata": {
  "kernelspec": {
   "display_name": "base",
   "language": "python",
   "name": "python3"
  },
  "language_info": {
   "codemirror_mode": {
    "name": "ipython",
    "version": 3
   },
   "file_extension": ".py",
   "mimetype": "text/x-python",
   "name": "python",
   "nbconvert_exporter": "python",
   "pygments_lexer": "ipython3",
   "version": "3.12.3"
  }
 },
 "nbformat": 4,
 "nbformat_minor": 5
}
